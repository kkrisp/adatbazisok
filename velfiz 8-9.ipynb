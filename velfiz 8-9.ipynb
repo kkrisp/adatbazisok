{
 "cells": [
  {
   "cell_type": "code",
   "execution_count": 1,
   "metadata": {},
   "outputs": [],
   "source": [
    "import math\n",
    "import random\n",
    "import matplotlib"
   ]
  },
  {
   "cell_type": "code",
   "execution_count": 2,
   "metadata": {},
   "outputs": [],
   "source": [
    "import matplotlib\n",
    "import matplotlib.pyplot as plt\n",
    "import numpy as np"
   ]
  },
  {
   "cell_type": "code",
   "execution_count": 12,
   "metadata": {},
   "outputs": [],
   "source": [
    "class Csucs:\n",
    "    \"\"\"Egy graf csucsat szimulalo osztaly\n",
    "    'azonosito' az megkulonboztetesre szolgalo szam\n",
    "    'kapcsolat' azon csucsok azonositojanak listaja,\n",
    "    melyhez ebbol a csucsbol el vezet.\"\"\"\n",
    "    def __init__(self, azonosito=0, kapcsolat=None):\n",
    "        self.azonosito = azonosito\n",
    "        self.kapcsolat = []\n",
    "        self.fokszam = 0\n",
    "    \n",
    "    def uj_el(self, uj_azonosito):\n",
    "        self.kapcsolat.append(uj_azonosito)\n",
    "        self.fokszam += 1"
   ]
  },
  {
   "cell_type": "code",
   "execution_count": 13,
   "metadata": {},
   "outputs": [],
   "source": [
    "class Veletlen_Rekurziv_Fa:\n",
    "    def __init__(self):\n",
    "        self.csucsok = [Csucs(0)]\n",
    "        self.N_csucs = 1\n",
    "        self.elek_szama = 0\n",
    "    \n",
    "    def uj_csucs(self):\n",
    "        self.csucsok.append(Csucs(self.N_csucs))\n",
    "        veletlen_csucs = random.randint(0, self.N_csucs-1)\n",
    "        self.csucsok[self.N_csucs].uj_el(veletlen_csucs)\n",
    "        self.csucsok[veletlen_csucs].uj_el(self.N_csucs)\n",
    "        #print(\"Az uj, {} csucs a {} csucshoz kapcsolodott.\".format(self.csucsok[self.N_csucs].azonosito, veletlen_csucs) )\n",
    "        self.N_csucs += 1\n",
    "        self.elek_szama += 1\n",
    "        #print(\"Most mar {} csucs van.\".format(self.N_csucs) )\n",
    "    \n",
    "    def atlagos_fokszam(self):\n",
    "        N_osszes = 0\n",
    "        for cs in self.csucsok:\n",
    "            #print(\"Az {} csucs fokszama {}\".format(cs.azonosito, cs.fokszam) )\n",
    "            N_osszes += cs.fokszam\n",
    "        return N_osszes/len(self.csucsok)\n",
    "    \n",
    "    def nullaz(self):\n",
    "        self.csucsok = [Csucs(0)]\n",
    "        self.N_csucs = 1\n",
    "        self.elek_szama = 0"
   ]
  },
  {
   "cell_type": "code",
   "execution_count": 10,
   "metadata": {},
   "outputs": [],
   "source": [
    "fa = Veletlen_Rekurziv_Fa()"
   ]
  },
  {
   "cell_type": "code",
   "execution_count": 11,
   "metadata": {},
   "outputs": [
    {
     "ename": "AttributeError",
     "evalue": "'int' object has no attribute 'azonosito'",
     "output_type": "error",
     "traceback": [
      "\u001b[1;31m---------------------------------------------------------------------------\u001b[0m",
      "\u001b[1;31mAttributeError\u001b[0m                            Traceback (most recent call last)",
      "\u001b[1;32m<ipython-input-11-7c3d67356e46>\u001b[0m in \u001b[0;36m<module>\u001b[1;34m\u001b[0m\n\u001b[0;32m      5\u001b[0m     \u001b[0mel\u001b[0m\u001b[1;33m.\u001b[0m\u001b[0mappend\u001b[0m\u001b[1;33m(\u001b[0m\u001b[0mi\u001b[0m\u001b[1;33m)\u001b[0m\u001b[1;33m\u001b[0m\u001b[1;33m\u001b[0m\u001b[0m\n\u001b[0;32m      6\u001b[0m     \u001b[0mf\u001b[0m\u001b[1;33m.\u001b[0m\u001b[0mappend\u001b[0m\u001b[1;33m(\u001b[0m\u001b[0mfa\u001b[0m\u001b[1;33m.\u001b[0m\u001b[0matlagos_fokszam\u001b[0m\u001b[1;33m(\u001b[0m\u001b[1;33m)\u001b[0m\u001b[1;33m)\u001b[0m\u001b[1;33m\u001b[0m\u001b[1;33m\u001b[0m\u001b[0m\n\u001b[1;32m----> 7\u001b[1;33m     \u001b[0mfa\u001b[0m\u001b[1;33m.\u001b[0m\u001b[0muj_csucs\u001b[0m\u001b[1;33m(\u001b[0m\u001b[1;33m)\u001b[0m\u001b[1;33m\u001b[0m\u001b[1;33m\u001b[0m\u001b[0m\n\u001b[0m",
      "\u001b[1;32m<ipython-input-9-72a6846e1576>\u001b[0m in \u001b[0;36muj_csucs\u001b[1;34m(self)\u001b[0m\n\u001b[0;32m      8\u001b[0m         \u001b[0mself\u001b[0m\u001b[1;33m.\u001b[0m\u001b[0mcsucsok\u001b[0m\u001b[1;33m.\u001b[0m\u001b[0mappend\u001b[0m\u001b[1;33m(\u001b[0m\u001b[0mCsucs\u001b[0m\u001b[1;33m(\u001b[0m\u001b[0mself\u001b[0m\u001b[1;33m.\u001b[0m\u001b[0mN_csucs\u001b[0m\u001b[1;33m)\u001b[0m\u001b[1;33m)\u001b[0m\u001b[1;33m\u001b[0m\u001b[1;33m\u001b[0m\u001b[0m\n\u001b[0;32m      9\u001b[0m         \u001b[0mveletlen_csucs\u001b[0m \u001b[1;33m=\u001b[0m \u001b[0mrandom\u001b[0m\u001b[1;33m.\u001b[0m\u001b[0mrandint\u001b[0m\u001b[1;33m(\u001b[0m\u001b[1;36m0\u001b[0m\u001b[1;33m,\u001b[0m \u001b[0mself\u001b[0m\u001b[1;33m.\u001b[0m\u001b[0mN_csucs\u001b[0m\u001b[1;33m-\u001b[0m\u001b[1;36m1\u001b[0m\u001b[1;33m)\u001b[0m\u001b[1;33m\u001b[0m\u001b[1;33m\u001b[0m\u001b[0m\n\u001b[1;32m---> 10\u001b[1;33m         \u001b[0mself\u001b[0m\u001b[1;33m.\u001b[0m\u001b[0mcsucsok\u001b[0m\u001b[1;33m[\u001b[0m\u001b[0mself\u001b[0m\u001b[1;33m.\u001b[0m\u001b[0mN_csucs\u001b[0m\u001b[1;33m]\u001b[0m\u001b[1;33m.\u001b[0m\u001b[0muj_el\u001b[0m\u001b[1;33m(\u001b[0m\u001b[0mveletlen_csucs\u001b[0m\u001b[1;33m)\u001b[0m\u001b[1;33m\u001b[0m\u001b[1;33m\u001b[0m\u001b[0m\n\u001b[0m\u001b[0;32m     11\u001b[0m         \u001b[0mself\u001b[0m\u001b[1;33m.\u001b[0m\u001b[0mcsucsok\u001b[0m\u001b[1;33m[\u001b[0m\u001b[0mveletlen_csucs\u001b[0m\u001b[1;33m]\u001b[0m\u001b[1;33m.\u001b[0m\u001b[0muj_el\u001b[0m\u001b[1;33m(\u001b[0m\u001b[0mself\u001b[0m\u001b[1;33m.\u001b[0m\u001b[0mN_csucs\u001b[0m\u001b[1;33m)\u001b[0m\u001b[1;33m\u001b[0m\u001b[1;33m\u001b[0m\u001b[0m\n\u001b[0;32m     12\u001b[0m         \u001b[1;31m#print(\"Az uj, {} csucs a {} csucshoz kapcsolodott.\".format(self.csucsok[self.N_csucs].azonosito, veletlen_csucs) )\u001b[0m\u001b[1;33m\u001b[0m\u001b[1;33m\u001b[0m\u001b[1;33m\u001b[0m\u001b[0m\n",
      "\u001b[1;32m<ipython-input-8-16586c16be16>\u001b[0m in \u001b[0;36muj_el\u001b[1;34m(self, uj_azonosito)\u001b[0m\n\u001b[0;32m     10\u001b[0m \u001b[1;33m\u001b[0m\u001b[0m\n\u001b[0;32m     11\u001b[0m     \u001b[1;32mdef\u001b[0m \u001b[0muj_el\u001b[0m\u001b[1;33m(\u001b[0m\u001b[0mself\u001b[0m\u001b[1;33m,\u001b[0m \u001b[0muj_azonosito\u001b[0m\u001b[1;33m)\u001b[0m\u001b[1;33m:\u001b[0m\u001b[1;33m\u001b[0m\u001b[1;33m\u001b[0m\u001b[0m\n\u001b[1;32m---> 12\u001b[1;33m         \u001b[0mself\u001b[0m\u001b[1;33m.\u001b[0m\u001b[0mkapcsolat\u001b[0m\u001b[1;33m.\u001b[0m\u001b[0mappend\u001b[0m\u001b[1;33m(\u001b[0m\u001b[0muj_azonosito\u001b[0m\u001b[1;33m.\u001b[0m\u001b[0mazonosito\u001b[0m\u001b[1;33m)\u001b[0m\u001b[1;33m\u001b[0m\u001b[1;33m\u001b[0m\u001b[0m\n\u001b[0m\u001b[0;32m     13\u001b[0m         \u001b[0mself\u001b[0m\u001b[1;33m.\u001b[0m\u001b[0mfokszam\u001b[0m \u001b[1;33m+=\u001b[0m \u001b[1;36m1\u001b[0m\u001b[1;33m\u001b[0m\u001b[1;33m\u001b[0m\u001b[0m\n",
      "\u001b[1;31mAttributeError\u001b[0m: 'int' object has no attribute 'azonosito'"
     ]
    }
   ],
   "source": [
    "el = []\n",
    "f = []\n",
    "fa.nullaz()\n",
    "for i in range(100):\n",
    "    el.append(i)\n",
    "    f.append(fa.atlagos_fokszam())\n",
    "    fa.uj_csucs()"
   ]
  },
  {
   "cell_type": "code",
   "execution_count": 7,
   "metadata": {},
   "outputs": [
    {
     "data": {
      "image/png": "[encoded data removed]",
      "text/plain": [
       "<Figure size 432x288 with 1 Axes>"
      ]
     },
     "metadata": {
      "needs_background": "light"
     },
     "output_type": "display_data"
    }
   ],
   "source": [
    "fig, ax = plt.subplots()\n",
    "ax.plot(el, f)\n",
    "\n",
    "ax.set(xlabel='élek száma', ylabel='átlagos fokszám',\n",
    "       title='Átlagos fokszámeloszlás véletlen rekurzív fa esetén')\n",
    "ax.grid()\n",
    "\n",
    "fig.savefig(\"test.png\")\n",
    "plt.show()"
   ]
  },
  {
   "cell_type": "code",
   "execution_count": 14,
   "metadata": {},
   "outputs": [],
   "source": [
    "class Anti_Preferencialis_Fa:\n",
    "    def __init__(self):\n",
    "        self.csucsok = [Csucs(0)]\n",
    "        self.N_csucs = 1\n",
    "        self.elek_szama = 0\n",
    "        self.N_fokszamu_csucs = [1]\n",
    "    \n",
    "    def uj_csucs(self):\n",
    "        self.csucsok.append(Csucs(self.N_csucs))\n",
    "        veletlen_csucs = random.randint(0, self.N_csucs-1)\n",
    "        k = csucsok[veletlen_csucs].fokszam\n",
    "        A = 0\n",
    "        for l in range(len(N_fokszamu_csucs)):\n",
    "            A += math.pow(l, -2)*N_fokszamu_csucs[l]\n",
    "        atmeneti_rata = math.pow(k, -2)/A\n",
    "        r = random()\n",
    "        print(r, atmeneti_rata)\n",
    "        if random()<atmeneti_rata:\n",
    "            self.csucsok[self.N_csucs].uj_el(veletlen_csucs)\n",
    "            self.csucsok[veletlen_csucs].uj_el(self.N_csucs)\n",
    "        #print(\"Az uj, {} csucs a {} csucshoz kapcsolodott.\".format(self.csucsok[self.N_csucs].azonosito, veletlen_csucs) )\n",
    "            self.N_csucs += 1\n",
    "            self.elek_szama += 1\n",
    "        #print(\"Most mar {} csucs van.\".format(self.N_csucs) )\n",
    "    \n",
    "    def atlagos_fokszam(self):\n",
    "        N_osszes = 0\n",
    "        for cs in self.csucsok:\n",
    "            #print(\"Az {} csucs fokszama {}\".format(cs.azonosito, cs.fokszam) )\n",
    "            N_osszes += cs.fokszam\n",
    "        return N_osszes/len(self.csucsok)\n",
    "    \n",
    "    def nullaz(self):\n",
    "        self.csucsok = [Csucs(0)]\n",
    "        self.N_csucs = 1\n",
    "        self.elek_szama = 0"
   ]
  }
 ],
 "metadata": {
  "kernelspec": {
   "display_name": "Python 3",
   "language": "python",
   "name": "python3"
  },
  "language_info": {
   "codemirror_mode": {
    "name": "ipython",
    "version": 3
   },
   "file_extension": ".py",
   "mimetype": "text/x-python",
   "name": "python",
   "nbconvert_exporter": "python",
   "pygments_lexer": "ipython3",
   "version": "3.7.1"
  }
 },
 "nbformat": 4,
 "nbformat_minor": 2
}
